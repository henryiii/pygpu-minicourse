{
 "cells": [
  {
   "cell_type": "code",
   "execution_count": null,
   "metadata": {},
   "outputs": [],
   "source": [
    "%load_ext sbatch_magic"
   ]
  },
  {
   "cell_type": "markdown",
   "metadata": {},
   "source": [
    "Enter the name of the example you want to run below, without the extension (`such as 01a_fractal_cupy`)."
   ]
  },
  {
   "cell_type": "code",
   "execution_count": null,
   "metadata": {},
   "outputs": [],
   "source": [
    "%%sbatch 02c_nll_torch\n",
    "#!/bin/bash\n",
    "# GPU job\n",
    "\n",
    "#SBATCH --nodes=1                # node count\n",
    "#SBATCH --ntasks=1               # total number of tasks across all nodes\n",
    "#SBATCH --cpus-per-task=1        # cpu-cores per task (>1 if multi-threaded tasks)\n",
    "#SBATCH --gres=gpu               # number of gpus per node\n",
    "#SBATCH --mem=1G                 # total memory (RAM) per node\n",
    "#SBATCH --reservation=pygpu      # reservation for the class\n",
    "#SBATCH --time=00:01:30          # total run time limit (HH:MM:SS)\n",
    "\n",
    "module purge\n",
    "module load course/pygpu/default\n",
    "\n",
    "time jupyter nbconvert --to html --execute --ExecutePreprocessor.timeout=60 {name}.ipynb"
   ]
  },
  {
   "cell_type": "code",
   "execution_count": null,
   "metadata": {},
   "outputs": [],
   "source": [
    "!squeue -u $USER"
   ]
  },
  {
   "cell_type": "markdown",
   "metadata": {},
   "source": [
    "Open the new html page with the same name as the input to see the output!"
   ]
  }
 ],
 "metadata": {
  "kernelspec": {
   "display_name": "PyGPU Course 2019/12 [course/pygpu/default]",
   "language": "python",
   "name": "sys_pygpu201912"
  },
  "language_info": {
   "codemirror_mode": {
    "name": "ipython",
    "version": 3
   },
   "file_extension": ".py",
   "mimetype": "text/x-python",
   "name": "python",
   "nbconvert_exporter": "python",
   "pygments_lexer": "ipython3",
   "version": "3.8.6"
  }
 },
 "nbformat": 4,
 "nbformat_minor": 4
}
