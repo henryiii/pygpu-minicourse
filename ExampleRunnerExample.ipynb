{
 "cells": [
  {
   "cell_type": "markdown",
   "metadata": {},
   "source": [
    "Set this name to the base name of the notebook you want to run on a GPU."
   ]
  },
  {
   "cell_type": "code",
   "execution_count": null,
   "metadata": {},
   "outputs": [],
   "source": [
    "name = \"01a_fractal_cupy\""
   ]
  },
  {
   "cell_type": "code",
   "execution_count": null,
   "metadata": {},
   "outputs": [],
   "source": [
    "from IPython.core.magic import register_line_cell_magic\n",
    "import time\n",
    "from pathlib import Path"
   ]
  },
  {
   "cell_type": "markdown",
   "metadata": {},
   "source": [
    "This is a quick magic command that behaves exactly like `%%writefile` except with variable templating"
   ]
  },
  {
   "cell_type": "code",
   "execution_count": null,
   "metadata": {},
   "outputs": [],
   "source": [
    "@register_line_cell_magic\n",
    "def writetemplate(line, cell):\n",
    "    print(\"(Over)writing\", line)\n",
    "    with open(line, 'w') as f:\n",
    "        f.write(cell.format(**globals()))"
   ]
  },
  {
   "cell_type": "markdown",
   "metadata": {},
   "source": [
    "And, a quick utility to watch the file until it signals that it is done:"
   ]
  },
  {
   "cell_type": "code",
   "execution_count": null,
   "metadata": {},
   "outputs": [],
   "source": [
    "def watch_file(filename):\n",
    "    filename = Path(filename)\n",
    "    while not filename.exists():\n",
    "        time.sleep(.5)\n",
    "    with open(filename) as f:\n",
    "        while True:\n",
    "            r = f.readline()\n",
    "            if \"[ADRIOT-DONE]\" in r:\n",
    "                break\n",
    "            elif r == '':\n",
    "                time.sleep(.5)\n",
    "            else:\n",
    "                print(r, end='')\n",
    "                \n",
    "    print(\"Done!\")"
   ]
  },
  {
   "cell_type": "markdown",
   "metadata": {},
   "source": [
    "> Note:\n",
    "> \n",
    "> In Python 3.8 the loop could be written:\n",
    "> ```python\n",
    "> while \"[ADRIOT-DONE]\" not in (r := f.readline()):\n",
    "    if r == '':\n",
    "        time.sleep(.5)\n",
    "    else:\n",
    "        print(r, end='')\n",
    "> ```\n",
    ">"
   ]
  },
  {
   "cell_type": "code",
   "execution_count": null,
   "metadata": {},
   "outputs": [],
   "source": [
    "%%writetemplate {name}.sbatch\n",
    "#!/bin/bash\n",
    "# GPU job\n",
    "\n",
    "#SBATCH --job-name={name}        # create a short name for your job\n",
    "#SBATCH -o {name}.out            # Name of stdout output file (%j expands to jobId)\n",
    "#SBATCH --nodes=1                # node count\n",
    "#SBATCH --ntasks=1               # total number of tasks across all nodes\n",
    "#SBATCH --cpus-per-task=1        # cpu-cores per task (>1 if multi-threaded tasks)\n",
    "#SBATCH --gres=gpu               # number of gpus per node\n",
    "#SBATCH --mem=1G                 # total memory (RAM) per node\n",
    "#SBATCH --reservation=pygpu      # reservation for the class\n",
    "#SBATCH --time=00:01:30          # total run time limit (HH:MM:SS)\n",
    "\n",
    "module purge\n",
    "module load course/pygpu/default\n",
    "\n",
    "time jupyter nbconvert --to html --execute --ExecutePreprocessor.timeout=60 {name}.ipynb\n",
    "\n",
    "echo\n",
    "echo \"[ADRIOT-DONE]\""
   ]
  },
  {
   "cell_type": "markdown",
   "metadata": {},
   "source": [
    "`:tesla_v100:1`"
   ]
  },
  {
   "cell_type": "markdown",
   "metadata": {},
   "source": [
    "We remove the old run output and output file if they are present."
   ]
  },
  {
   "cell_type": "code",
   "execution_count": null,
   "metadata": {},
   "outputs": [],
   "source": [
    "!rm {name}.out {name}.html"
   ]
  },
  {
   "cell_type": "markdown",
   "metadata": {},
   "source": [
    "Time to submit the run!"
   ]
  },
  {
   "cell_type": "code",
   "execution_count": null,
   "metadata": {},
   "outputs": [],
   "source": [
    "!sbatch {name}.sbatch"
   ]
  },
  {
   "cell_type": "markdown",
   "metadata": {},
   "source": [
    "And now let's watch the output file:"
   ]
  },
  {
   "cell_type": "code",
   "execution_count": null,
   "metadata": {},
   "outputs": [],
   "source": [
    "watch_file(f'{name}.out');"
   ]
  },
  {
   "cell_type": "markdown",
   "metadata": {},
   "source": [
    "Open the new nbconvert notebook to see the output!"
   ]
  },
  {
   "cell_type": "code",
   "execution_count": null,
   "metadata": {},
   "outputs": [],
   "source": []
  }
 ],
 "metadata": {
  "kernelspec": {
   "display_name": "PyGPU Course 2019/12 [course/pygpu/default]",
   "language": "python",
   "name": "sys_pygpu201912"
  },
  "language_info": {
   "codemirror_mode": {
    "name": "ipython",
    "version": 3
   },
   "file_extension": ".py",
   "mimetype": "text/x-python",
   "name": "python",
   "nbconvert_exporter": "python",
   "pygments_lexer": "ipython3",
   "version": "3.8.6"
  }
 },
 "nbformat": 4,
 "nbformat_minor": 4
}
